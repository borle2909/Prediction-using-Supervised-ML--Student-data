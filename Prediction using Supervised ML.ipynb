{
 "cells": [
  {
   "cell_type": "markdown",
   "id": "bd38fb5f",
   "metadata": {},
   "source": [
    "# The Sparks Foundation - Internship\n",
    "## Data Science and Business Analytics @GRIP\n",
    "\n",
    "### Task 1 :-\n",
    "#### Prediction using Supervised ML\n",
    "\n",
    "### Objective:- \n",
    "#### Predict the percentage of a student based on the number of study hours.\n",
    "#### What will be predicted score if a student studies for 9.25 hrs/day?\n",
    "\n",
    "### Author :- Pratik S. Borle "
   ]
  },
  {
   "cell_type": "markdown",
   "id": "2d43e802",
   "metadata": {},
   "source": [
    "### Step:- 1 Reading the given dataset"
   ]
  },
  {
   "cell_type": "markdown",
   "id": "deb049dd",
   "metadata": {},
   "source": [
    "#### Importing the CSV data"
   ]
  },
  {
   "cell_type": "code",
   "execution_count": 1,
   "id": "97ac8877",
   "metadata": {},
   "outputs": [
    {
     "data": {
      "text/html": [
       "<table>\n",
       "<thead><tr><th scope=col>Hours</th><th scope=col>Scores</th></tr></thead>\n",
       "<tbody>\n",
       "\t<tr><td>2.5</td><td>21 </td></tr>\n",
       "\t<tr><td>5.1</td><td>47 </td></tr>\n",
       "\t<tr><td>3.2</td><td>27 </td></tr>\n",
       "\t<tr><td>8.5</td><td>75 </td></tr>\n",
       "\t<tr><td>3.5</td><td>30 </td></tr>\n",
       "\t<tr><td>1.5</td><td>20 </td></tr>\n",
       "</tbody>\n",
       "</table>\n"
      ],
      "text/latex": [
       "\\begin{tabular}{r|ll}\n",
       " Hours & Scores\\\\\n",
       "\\hline\n",
       "\t 2.5 & 21 \\\\\n",
       "\t 5.1 & 47 \\\\\n",
       "\t 3.2 & 27 \\\\\n",
       "\t 8.5 & 75 \\\\\n",
       "\t 3.5 & 30 \\\\\n",
       "\t 1.5 & 20 \\\\\n",
       "\\end{tabular}\n"
      ],
      "text/markdown": [
       "\n",
       "| Hours | Scores |\n",
       "|---|---|\n",
       "| 2.5 | 21  |\n",
       "| 5.1 | 47  |\n",
       "| 3.2 | 27  |\n",
       "| 8.5 | 75  |\n",
       "| 3.5 | 30  |\n",
       "| 1.5 | 20  |\n",
       "\n"
      ],
      "text/plain": [
       "  Hours Scores\n",
       "1 2.5   21    \n",
       "2 5.1   47    \n",
       "3 3.2   27    \n",
       "4 8.5   75    \n",
       "5 3.5   30    \n",
       "6 1.5   20    "
      ]
     },
     "metadata": {},
     "output_type": "display_data"
    }
   ],
   "source": [
    "student_data <- read.csv(\"https://raw.githubusercontent.com/AdiPersonalWorks/Random/master/student_scores%20-%20student_scores.csv\", header = TRUE)\n",
    "head(student_data)"
   ]
  },
  {
   "cell_type": "code",
   "execution_count": 2,
   "id": "855f8cf1",
   "metadata": {},
   "outputs": [
    {
     "data": {
      "text/plain": [
       "     Hours           Scores     \n",
       " Min.   :1.100   Min.   :17.00  \n",
       " 1st Qu.:2.700   1st Qu.:30.00  \n",
       " Median :4.800   Median :47.00  \n",
       " Mean   :5.012   Mean   :51.48  \n",
       " 3rd Qu.:7.400   3rd Qu.:75.00  \n",
       " Max.   :9.200   Max.   :95.00  "
      ]
     },
     "metadata": {},
     "output_type": "display_data"
    }
   ],
   "source": [
    "summary(student_data)"
   ]
  },
  {
   "cell_type": "markdown",
   "id": "e0125e3a",
   "metadata": {},
   "source": [
    "### Step:- 2  Plotting the Given Data set"
   ]
  },
  {
   "cell_type": "code",
   "execution_count": 3,
   "id": "2a438a7d",
   "metadata": {},
   "outputs": [
    {
     "data": {
      "image/png": "[encoded data removed]",
      "text/plain": [
       "Plot with title \"Score of student by study Hours\""
      ]
     },
     "metadata": {},
     "output_type": "display_data"
    }
   ],
   "source": [
    "plot(x = student_data$Hours, y = student_data$Scores, xlab = \"Hours\", ylab = \"Scores\", main = \"Score of student by study Hours\", col = \"Red\")"
   ]
  },
  {
   "cell_type": "markdown",
   "id": "dcc9a942",
   "metadata": {},
   "source": [
    "### Step:-3 Running Linear Regression on the data as there are only Two variables"
   ]
  },
  {
   "cell_type": "markdown",
   "id": "f8a33eaf",
   "metadata": {},
   "source": [
    "#### Linear regression "
   ]
  },
  {
   "cell_type": "code",
   "execution_count": 4,
   "id": "c556a36b",
   "metadata": {},
   "outputs": [
    {
     "data": {
      "image/png": "[encoded data removed]",
      "text/plain": [
       "Plot with title \"Score of student by study Hours\""
      ]
     },
     "metadata": {},
     "output_type": "display_data"
    }
   ],
   "source": [
    "student_data_regression <- lm(formula = Scores~Hours , data = student_data)\n",
    "plot(x = student_data$Hours, y = student_data$Scores, xlab = \"Hours\", ylab = \"Scores\", main = \"Score of student by study Hours\", col = \"red\")\n",
    "abline(student_data_regression, col= \"Blue\")"
   ]
  },
  {
   "cell_type": "code",
   "execution_count": 5,
   "id": "f073d84c",
   "metadata": {},
   "outputs": [
    {
     "data": {
      "text/plain": [
       "\n",
       "Call:\n",
       "lm(formula = Scores ~ Hours, data = student_data)\n",
       "\n",
       "Residuals:\n",
       "    Min      1Q  Median      3Q     Max \n",
       "-10.578  -5.340   1.839   4.593   7.265 \n",
       "\n",
       "Coefficients:\n",
       "            Estimate Std. Error t value Pr(>|t|)    \n",
       "(Intercept)   2.4837     2.5317   0.981    0.337    \n",
       "Hours         9.7758     0.4529  21.583   <2e-16 ***\n",
       "---\n",
       "Signif. codes:  0 '***' 0.001 '**' 0.01 '*' 0.05 '.' 0.1 ' ' 1\n",
       "\n",
       "Residual standard error: 5.603 on 23 degrees of freedom\n",
       "Multiple R-squared:  0.9529,\tAdjusted R-squared:  0.9509 \n",
       "F-statistic: 465.8 on 1 and 23 DF,  p-value: < 2.2e-16\n"
      ]
     },
     "metadata": {},
     "output_type": "display_data"
    }
   ],
   "source": [
    "summary(student_data_regression)"
   ]
  },
  {
   "cell_type": "markdown",
   "id": "8212c546",
   "metadata": {},
   "source": [
    "### Step:- 4 Splitting Data into Test and Training Data"
   ]
  },
  {
   "cell_type": "code",
   "execution_count": 16,
   "id": "6ff8fead",
   "metadata": {},
   "outputs": [
    {
     "name": "stderr",
     "output_type": "stream",
     "text": [
      "also installing the dependency 'bitops'\n",
      "\n"
     ]
    },
    {
     "name": "stdout",
     "output_type": "stream",
     "text": [
      "package 'bitops' successfully unpacked and MD5 sums checked\n",
      "package 'caTools' successfully unpacked and MD5 sums checked\n",
      "\n",
      "The downloaded binary packages are in\n",
      "\tC:\\Users\\YouGet\\AppData\\Local\\Temp\\Rtmps7p1nX\\downloaded_packages\n"
     ]
    },
    {
     "name": "stderr",
     "output_type": "stream",
     "text": [
      "Warning message:\n",
      "\"package 'caTools' was built under R version 3.6.3\""
     ]
    }
   ],
   "source": [
    "install.packages(\"caTools\")\n",
    "library(caTools)"
   ]
  },
  {
   "cell_type": "code",
   "execution_count": 18,
   "id": "35c5f81e",
   "metadata": {},
   "outputs": [],
   "source": [
    "split = sample.split(Y = student_data$Scores, SplitRatio = 0.75)\n",
    "  training_set = subset(student_data, split == TRUE)\n",
    "  test_set = subset(student_data, split==FALSE)\n",
    "  "
   ]
  },
  {
   "cell_type": "code",
   "execution_count": 19,
   "id": "8e0f699b",
   "metadata": {},
   "outputs": [
    {
     "data": {
      "text/html": [
       "<table>\n",
       "<thead><tr><th></th><th scope=col>Hours</th><th scope=col>Scores</th></tr></thead>\n",
       "<tbody>\n",
       "\t<tr><th scope=row>2</th><td>5.1</td><td>47 </td></tr>\n",
       "\t<tr><th scope=row>3</th><td>3.2</td><td>27 </td></tr>\n",
       "\t<tr><th scope=row>4</th><td>8.5</td><td>75 </td></tr>\n",
       "\t<tr><th scope=row>5</th><td>3.5</td><td>30 </td></tr>\n",
       "\t<tr><th scope=row>6</th><td>1.5</td><td>20 </td></tr>\n",
       "\t<tr><th scope=row>8</th><td>5.5</td><td>60 </td></tr>\n",
       "\t<tr><th scope=row>9</th><td>8.3</td><td>81 </td></tr>\n",
       "\t<tr><th scope=row>11</th><td>7.7</td><td>85 </td></tr>\n",
       "\t<tr><th scope=row>12</th><td>5.9</td><td>62 </td></tr>\n",
       "\t<tr><th scope=row>13</th><td>4.5</td><td>41 </td></tr>\n",
       "\t<tr><th scope=row>14</th><td>3.3</td><td>42 </td></tr>\n",
       "\t<tr><th scope=row>16</th><td>8.9</td><td>95 </td></tr>\n",
       "\t<tr><th scope=row>18</th><td>1.9</td><td>24 </td></tr>\n",
       "\t<tr><th scope=row>19</th><td>6.1</td><td>67 </td></tr>\n",
       "\t<tr><th scope=row>20</th><td>7.4</td><td>69 </td></tr>\n",
       "\t<tr><th scope=row>21</th><td>2.7</td><td>30 </td></tr>\n",
       "\t<tr><th scope=row>22</th><td>4.8</td><td>54 </td></tr>\n",
       "\t<tr><th scope=row>25</th><td>7.8</td><td>86 </td></tr>\n",
       "</tbody>\n",
       "</table>\n"
      ],
      "text/latex": [
       "\\begin{tabular}{r|ll}\n",
       "  & Hours & Scores\\\\\n",
       "\\hline\n",
       "\t2 & 5.1 & 47 \\\\\n",
       "\t3 & 3.2 & 27 \\\\\n",
       "\t4 & 8.5 & 75 \\\\\n",
       "\t5 & 3.5 & 30 \\\\\n",
       "\t6 & 1.5 & 20 \\\\\n",
       "\t8 & 5.5 & 60 \\\\\n",
       "\t9 & 8.3 & 81 \\\\\n",
       "\t11 & 7.7 & 85 \\\\\n",
       "\t12 & 5.9 & 62 \\\\\n",
       "\t13 & 4.5 & 41 \\\\\n",
       "\t14 & 3.3 & 42 \\\\\n",
       "\t16 & 8.9 & 95 \\\\\n",
       "\t18 & 1.9 & 24 \\\\\n",
       "\t19 & 6.1 & 67 \\\\\n",
       "\t20 & 7.4 & 69 \\\\\n",
       "\t21 & 2.7 & 30 \\\\\n",
       "\t22 & 4.8 & 54 \\\\\n",
       "\t25 & 7.8 & 86 \\\\\n",
       "\\end{tabular}\n"
      ],
      "text/markdown": [
       "\n",
       "| <!--/--> | Hours | Scores |\n",
       "|---|---|---|\n",
       "| 2 | 5.1 | 47  |\n",
       "| 3 | 3.2 | 27  |\n",
       "| 4 | 8.5 | 75  |\n",
       "| 5 | 3.5 | 30  |\n",
       "| 6 | 1.5 | 20  |\n",
       "| 8 | 5.5 | 60  |\n",
       "| 9 | 8.3 | 81  |\n",
       "| 11 | 7.7 | 85  |\n",
       "| 12 | 5.9 | 62  |\n",
       "| 13 | 4.5 | 41  |\n",
       "| 14 | 3.3 | 42  |\n",
       "| 16 | 8.9 | 95  |\n",
       "| 18 | 1.9 | 24  |\n",
       "| 19 | 6.1 | 67  |\n",
       "| 20 | 7.4 | 69  |\n",
       "| 21 | 2.7 | 30  |\n",
       "| 22 | 4.8 | 54  |\n",
       "| 25 | 7.8 | 86  |\n",
       "\n"
      ],
      "text/plain": [
       "   Hours Scores\n",
       "2  5.1   47    \n",
       "3  3.2   27    \n",
       "4  8.5   75    \n",
       "5  3.5   30    \n",
       "6  1.5   20    \n",
       "8  5.5   60    \n",
       "9  8.3   81    \n",
       "11 7.7   85    \n",
       "12 5.9   62    \n",
       "13 4.5   41    \n",
       "14 3.3   42    \n",
       "16 8.9   95    \n",
       "18 1.9   24    \n",
       "19 6.1   67    \n",
       "20 7.4   69    \n",
       "21 2.7   30    \n",
       "22 4.8   54    \n",
       "25 7.8   86    "
      ]
     },
     "metadata": {},
     "output_type": "display_data"
    }
   ],
   "source": [
    " training_set # checking the training data"
   ]
  },
  {
   "cell_type": "code",
   "execution_count": 20,
   "id": "ead0db0c",
   "metadata": {},
   "outputs": [
    {
     "data": {
      "text/html": [
       "<table>\n",
       "<thead><tr><th></th><th scope=col>Hours</th><th scope=col>Scores</th></tr></thead>\n",
       "<tbody>\n",
       "\t<tr><th scope=row>1</th><td>2.5</td><td>21 </td></tr>\n",
       "\t<tr><th scope=row>7</th><td>9.2</td><td>88 </td></tr>\n",
       "\t<tr><th scope=row>10</th><td>2.7</td><td>25 </td></tr>\n",
       "\t<tr><th scope=row>15</th><td>1.1</td><td>17 </td></tr>\n",
       "\t<tr><th scope=row>17</th><td>2.5</td><td>30 </td></tr>\n",
       "\t<tr><th scope=row>23</th><td>3.8</td><td>35 </td></tr>\n",
       "\t<tr><th scope=row>24</th><td>6.9</td><td>76 </td></tr>\n",
       "</tbody>\n",
       "</table>\n"
      ],
      "text/latex": [
       "\\begin{tabular}{r|ll}\n",
       "  & Hours & Scores\\\\\n",
       "\\hline\n",
       "\t1 & 2.5 & 21 \\\\\n",
       "\t7 & 9.2 & 88 \\\\\n",
       "\t10 & 2.7 & 25 \\\\\n",
       "\t15 & 1.1 & 17 \\\\\n",
       "\t17 & 2.5 & 30 \\\\\n",
       "\t23 & 3.8 & 35 \\\\\n",
       "\t24 & 6.9 & 76 \\\\\n",
       "\\end{tabular}\n"
      ],
      "text/markdown": [
       "\n",
       "| <!--/--> | Hours | Scores |\n",
       "|---|---|---|\n",
       "| 1 | 2.5 | 21  |\n",
       "| 7 | 9.2 | 88  |\n",
       "| 10 | 2.7 | 25  |\n",
       "| 15 | 1.1 | 17  |\n",
       "| 17 | 2.5 | 30  |\n",
       "| 23 | 3.8 | 35  |\n",
       "| 24 | 6.9 | 76  |\n",
       "\n"
      ],
      "text/plain": [
       "   Hours Scores\n",
       "1  2.5   21    \n",
       "7  9.2   88    \n",
       "10 2.7   25    \n",
       "15 1.1   17    \n",
       "17 2.5   30    \n",
       "23 3.8   35    \n",
       "24 6.9   76    "
      ]
     },
     "metadata": {},
     "output_type": "display_data"
    }
   ],
   "source": [
    "test_set# checking the test data"
   ]
  },
  {
   "cell_type": "markdown",
   "id": "5df0b1f6",
   "metadata": {},
   "source": [
    "### Step:- 5 Training the dataset "
   ]
  },
  {
   "cell_type": "code",
   "execution_count": 22,
   "id": "d0212f41",
   "metadata": {},
   "outputs": [
    {
     "data": {
      "text/plain": [
       "\n",
       "Call:\n",
       "lm(formula = Scores ~ Hours, data = training_set)\n",
       "\n",
       "Residuals:\n",
       "    Min      1Q  Median      3Q     Max \n",
       "-10.841  -5.787   1.979   4.489   6.987 \n",
       "\n",
       "Coefficients:\n",
       "            Estimate Std. Error t value Pr(>|t|)    \n",
       "(Intercept)   2.9304     3.5716    0.82    0.424    \n",
       "Hours         9.7542     0.6118   15.94 3.05e-11 ***\n",
       "---\n",
       "Signif. codes:  0 '***' 0.001 '**' 0.01 '*' 0.05 '.' 0.1 ' ' 1\n",
       "\n",
       "Residual standard error: 5.961 on 16 degrees of freedom\n",
       "Multiple R-squared:  0.9408,\tAdjusted R-squared:  0.9371 \n",
       "F-statistic: 254.2 on 1 and 16 DF,  p-value: 3.054e-11\n"
      ]
     },
     "metadata": {},
     "output_type": "display_data"
    }
   ],
   "source": [
    "result <- lm(formula = Scores~Hours, data = training_set)\n",
    "summary(result)"
   ]
  },
  {
   "cell_type": "code",
   "execution_count": 23,
   "id": "5e5f330d",
   "metadata": {},
   "outputs": [
    {
     "data": {
      "text/html": [
       "<dl class=dl-horizontal>\n",
       "\t<dt>(Intercept)</dt>\n",
       "\t\t<dd>2.93035070468698</dd>\n",
       "\t<dt>Hours</dt>\n",
       "\t\t<dd>9.75417895771878</dd>\n",
       "</dl>\n"
      ],
      "text/latex": [
       "\\begin{description*}\n",
       "\\item[(Intercept)] 2.93035070468698\n",
       "\\item[Hours] 9.75417895771878\n",
       "\\end{description*}\n"
      ],
      "text/markdown": [
       "(Intercept)\n",
       ":   2.93035070468698Hours\n",
       ":   9.75417895771878\n",
       "\n"
      ],
      "text/plain": [
       "(Intercept)       Hours \n",
       "   2.930351    9.754179 "
      ]
     },
     "metadata": {},
     "output_type": "display_data"
    }
   ],
   "source": [
    " result$coefficients"
   ]
  },
  {
   "cell_type": "markdown",
   "id": "9758801b",
   "metadata": {},
   "source": [
    "### Step:- 6 Using the Test Data to predict the outcome "
   ]
  },
  {
   "cell_type": "code",
   "execution_count": 27,
   "id": "5a585777",
   "metadata": {},
   "outputs": [
    {
     "data": {
      "text/html": [
       "<dl class=dl-horizontal>\n",
       "\t<dt>1</dt>\n",
       "\t\t<dd>27.3157980989839</dd>\n",
       "\t<dt>7</dt>\n",
       "\t\t<dd>92.6687971156998</dd>\n",
       "\t<dt>10</dt>\n",
       "\t\t<dd>29.2666338905277</dd>\n",
       "\t<dt>15</dt>\n",
       "\t\t<dd>13.6599475581776</dd>\n",
       "\t<dt>17</dt>\n",
       "\t\t<dd>27.3157980989839</dd>\n",
       "\t<dt>23</dt>\n",
       "\t\t<dd>39.9962307440183</dd>\n",
       "</dl>\n"
      ],
      "text/latex": [
       "\\begin{description*}\n",
       "\\item[1] 27.3157980989839\n",
       "\\item[7] 92.6687971156998\n",
       "\\item[10] 29.2666338905277\n",
       "\\item[15] 13.6599475581776\n",
       "\\item[17] 27.3157980989839\n",
       "\\item[23] 39.9962307440183\n",
       "\\end{description*}\n"
      ],
      "text/markdown": [
       "1\n",
       ":   27.31579809898397\n",
       ":   92.668797115699810\n",
       ":   29.266633890527715\n",
       ":   13.659947558177617\n",
       ":   27.315798098983923\n",
       ":   39.9962307440183\n",
       "\n"
      ],
      "text/plain": [
       "       1        7       10       15       17       23 \n",
       "27.31580 92.66880 29.26663 13.65995 27.31580 39.99623 "
      ]
     },
     "metadata": {},
     "output_type": "display_data"
    }
   ],
   "source": [
    "pred <- predict(result, test_set)\n",
    " head(pred) #printing the predicted result"
   ]
  },
  {
   "cell_type": "code",
   "execution_count": 26,
   "id": "f3468f90",
   "metadata": {},
   "outputs": [
    {
     "data": {
      "text/html": [
       "<table>\n",
       "<thead><tr><th></th><th scope=col>Hours</th><th scope=col>Scores</th></tr></thead>\n",
       "<tbody>\n",
       "\t<tr><th scope=row>1</th><td>2.5</td><td>21 </td></tr>\n",
       "\t<tr><th scope=row>7</th><td>9.2</td><td>88 </td></tr>\n",
       "\t<tr><th scope=row>10</th><td>2.7</td><td>25 </td></tr>\n",
       "\t<tr><th scope=row>15</th><td>1.1</td><td>17 </td></tr>\n",
       "\t<tr><th scope=row>17</th><td>2.5</td><td>30 </td></tr>\n",
       "\t<tr><th scope=row>23</th><td>3.8</td><td>35 </td></tr>\n",
       "</tbody>\n",
       "</table>\n"
      ],
      "text/latex": [
       "\\begin{tabular}{r|ll}\n",
       "  & Hours & Scores\\\\\n",
       "\\hline\n",
       "\t1 & 2.5 & 21 \\\\\n",
       "\t7 & 9.2 & 88 \\\\\n",
       "\t10 & 2.7 & 25 \\\\\n",
       "\t15 & 1.1 & 17 \\\\\n",
       "\t17 & 2.5 & 30 \\\\\n",
       "\t23 & 3.8 & 35 \\\\\n",
       "\\end{tabular}\n"
      ],
      "text/markdown": [
       "\n",
       "| <!--/--> | Hours | Scores |\n",
       "|---|---|---|\n",
       "| 1 | 2.5 | 21  |\n",
       "| 7 | 9.2 | 88  |\n",
       "| 10 | 2.7 | 25  |\n",
       "| 15 | 1.1 | 17  |\n",
       "| 17 | 2.5 | 30  |\n",
       "| 23 | 3.8 | 35  |\n",
       "\n"
      ],
      "text/plain": [
       "   Hours Scores\n",
       "1  2.5   21    \n",
       "7  9.2   88    \n",
       "10 2.7   25    \n",
       "15 1.1   17    \n",
       "17 2.5   30    \n",
       "23 3.8   35    "
      ]
     },
     "metadata": {},
     "output_type": "display_data"
    }
   ],
   "source": [
    " head(test_set) # printing the head of test set to compare with predicted values"
   ]
  },
  {
   "cell_type": "markdown",
   "id": "50dcea38",
   "metadata": {},
   "source": [
    "### Step:- 7 Calculating the Mean Absolute Error "
   ]
  },
  {
   "cell_type": "markdown",
   "id": "73eed22f",
   "metadata": {},
   "source": [
    "#### taking the head values of original test set"
   ]
  },
  {
   "cell_type": "code",
   "execution_count": 28,
   "id": "4451d1bb",
   "metadata": {},
   "outputs": [
    {
     "data": {
      "text/html": [
       "<table>\n",
       "<thead><tr><th></th><th scope=col>Hours</th><th scope=col>Scores</th></tr></thead>\n",
       "<tbody>\n",
       "\t<tr><th scope=row>2</th><td>5.1</td><td>47 </td></tr>\n",
       "\t<tr><th scope=row>3</th><td>3.2</td><td>27 </td></tr>\n",
       "\t<tr><th scope=row>4</th><td>8.5</td><td>75 </td></tr>\n",
       "\t<tr><th scope=row>5</th><td>3.5</td><td>30 </td></tr>\n",
       "\t<tr><th scope=row>6</th><td>1.5</td><td>20 </td></tr>\n",
       "\t<tr><th scope=row>8</th><td>5.5</td><td>60 </td></tr>\n",
       "</tbody>\n",
       "</table>\n"
      ],
      "text/latex": [
       "\\begin{tabular}{r|ll}\n",
       "  & Hours & Scores\\\\\n",
       "\\hline\n",
       "\t2 & 5.1 & 47 \\\\\n",
       "\t3 & 3.2 & 27 \\\\\n",
       "\t4 & 8.5 & 75 \\\\\n",
       "\t5 & 3.5 & 30 \\\\\n",
       "\t6 & 1.5 & 20 \\\\\n",
       "\t8 & 5.5 & 60 \\\\\n",
       "\\end{tabular}\n"
      ],
      "text/markdown": [
       "\n",
       "| <!--/--> | Hours | Scores |\n",
       "|---|---|---|\n",
       "| 2 | 5.1 | 47  |\n",
       "| 3 | 3.2 | 27  |\n",
       "| 4 | 8.5 | 75  |\n",
       "| 5 | 3.5 | 30  |\n",
       "| 6 | 1.5 | 20  |\n",
       "| 8 | 5.5 | 60  |\n",
       "\n"
      ],
      "text/plain": [
       "  Hours Scores\n",
       "2 5.1   47    \n",
       "3 3.2   27    \n",
       "4 8.5   75    \n",
       "5 3.5   30    \n",
       "6 1.5   20    \n",
       "8 5.5   60    "
      ]
     },
     "metadata": {},
     "output_type": "display_data"
    }
   ],
   "source": [
    " tset <- head(training_set)\n",
    "  tset"
   ]
  },
  {
   "cell_type": "markdown",
   "id": "5fa2080d",
   "metadata": {},
   "source": [
    "#### taking the head values of predicted set"
   ]
  },
  {
   "cell_type": "code",
   "execution_count": 29,
   "id": "7dab26df",
   "metadata": {},
   "outputs": [
    {
     "data": {
      "text/html": [
       "<table>\n",
       "<thead><tr><th></th><th scope=col>Hours</th><th scope=col>Scores</th></tr></thead>\n",
       "<tbody>\n",
       "\t<tr><th scope=row>1</th><td>2.5</td><td>21 </td></tr>\n",
       "\t<tr><th scope=row>7</th><td>9.2</td><td>88 </td></tr>\n",
       "\t<tr><th scope=row>10</th><td>2.7</td><td>25 </td></tr>\n",
       "\t<tr><th scope=row>15</th><td>1.1</td><td>17 </td></tr>\n",
       "\t<tr><th scope=row>17</th><td>2.5</td><td>30 </td></tr>\n",
       "\t<tr><th scope=row>23</th><td>3.8</td><td>35 </td></tr>\n",
       "</tbody>\n",
       "</table>\n"
      ],
      "text/latex": [
       "\\begin{tabular}{r|ll}\n",
       "  & Hours & Scores\\\\\n",
       "\\hline\n",
       "\t1 & 2.5 & 21 \\\\\n",
       "\t7 & 9.2 & 88 \\\\\n",
       "\t10 & 2.7 & 25 \\\\\n",
       "\t15 & 1.1 & 17 \\\\\n",
       "\t17 & 2.5 & 30 \\\\\n",
       "\t23 & 3.8 & 35 \\\\\n",
       "\\end{tabular}\n"
      ],
      "text/markdown": [
       "\n",
       "| <!--/--> | Hours | Scores |\n",
       "|---|---|---|\n",
       "| 1 | 2.5 | 21  |\n",
       "| 7 | 9.2 | 88  |\n",
       "| 10 | 2.7 | 25  |\n",
       "| 15 | 1.1 | 17  |\n",
       "| 17 | 2.5 | 30  |\n",
       "| 23 | 3.8 | 35  |\n",
       "\n"
      ],
      "text/plain": [
       "   Hours Scores\n",
       "1  2.5   21    \n",
       "7  9.2   88    \n",
       "10 2.7   25    \n",
       "15 1.1   17    \n",
       "17 2.5   30    \n",
       "23 3.8   35    "
      ]
     },
     "metadata": {},
     "output_type": "display_data"
    }
   ],
   "source": [
    "pset <- head(test_set)\n",
    "  pset"
   ]
  },
  {
   "cell_type": "markdown",
   "id": "68f109bc",
   "metadata": {},
   "source": [
    "#### Calculating Mean Absolute Error"
   ]
  },
  {
   "cell_type": "code",
   "execution_count": 31,
   "id": "0909d395",
   "metadata": {},
   "outputs": [
    {
     "name": "stderr",
     "output_type": "stream",
     "text": [
      "also installing the dependencies 'fastmap', 'cachem', 'proftools', 'zip', 'memoise', 'NCmisc', 'openxlsx', 'gWidgets2', 'gWidgets2tcltk', 'mgsub', 'reader'\n",
      "\n"
     ]
    },
    {
     "name": "stdout",
     "output_type": "stream",
     "text": [
      "\n",
      "  There are binary versions available but the source versions are later:\n",
      "         binary source needs_compilation\n",
      "cachem    1.0.4  1.0.6              TRUE\n",
      "zip       2.1.1  2.2.0              TRUE\n",
      "openxlsx  4.2.3  4.2.4              TRUE\n",
      "mgsub     1.7.2  1.7.3             FALSE\n",
      "\n",
      "  Binaries will be installed\n",
      "package 'fastmap' successfully unpacked and MD5 sums checked\n",
      "package 'cachem' successfully unpacked and MD5 sums checked\n",
      "package 'proftools' successfully unpacked and MD5 sums checked\n",
      "package 'zip' successfully unpacked and MD5 sums checked\n",
      "package 'memoise' successfully unpacked and MD5 sums checked\n",
      "package 'NCmisc' successfully unpacked and MD5 sums checked\n",
      "package 'openxlsx' successfully unpacked and MD5 sums checked\n",
      "package 'gWidgets2' successfully unpacked and MD5 sums checked\n",
      "package 'gWidgets2tcltk' successfully unpacked and MD5 sums checked\n",
      "package 'reader' successfully unpacked and MD5 sums checked\n",
      "package 'ie2misc' successfully unpacked and MD5 sums checked\n",
      "\n",
      "The downloaded binary packages are in\n",
      "\tC:\\Users\\YouGet\\AppData\\Local\\Temp\\Rtmps7p1nX\\downloaded_packages\n"
     ]
    },
    {
     "name": "stderr",
     "output_type": "stream",
     "text": [
      "installing the source package 'mgsub'\n",
      "\n",
      "Warning message:\n",
      "\"package 'ie2misc' was built under R version 3.6.3\""
     ]
    }
   ],
   "source": [
    "install.packages(\"ie2misc\")\n",
    "library(ie2misc)"
   ]
  },
  {
   "cell_type": "code",
   "execution_count": 32,
   "id": "9d9f2bde",
   "metadata": {},
   "outputs": [
    {
     "data": {
      "text/html": [
       "3.25"
      ],
      "text/latex": [
       "3.25"
      ],
      "text/markdown": [
       "3.25"
      ],
      "text/plain": [
       "[1] 3.25"
      ]
     },
     "metadata": {},
     "output_type": "display_data"
    }
   ],
   "source": [
    " mae(pset$Hours, tset$Hours)"
   ]
  },
  {
   "cell_type": "markdown",
   "id": "abd955d1",
   "metadata": {},
   "source": [
    "### Step:- 8 What will be predicted score if a student studies for 9.25 hrs/ day? "
   ]
  },
  {
   "cell_type": "code",
   "execution_count": 33,
   "id": "994cc656",
   "metadata": {},
   "outputs": [
    {
     "data": {
      "text/html": [
       "<strong>1:</strong> 93.1565060635857"
      ],
      "text/latex": [
       "\\textbf{1:} 93.1565060635857"
      ],
      "text/markdown": [
       "**1:** 93.1565060635857"
      ],
      "text/plain": [
       "       1 \n",
       "93.15651 "
      ]
     },
     "metadata": {},
     "output_type": "display_data"
    }
   ],
   "source": [
    " predicted_result <- predict(result, data.frame(Hours = 9.25))\n",
    "  predicted_result"
   ]
  },
  {
   "cell_type": "markdown",
   "id": "145e7c11",
   "metadata": {},
   "source": [
    "### Conclusion"
   ]
  },
  {
   "cell_type": "markdown",
   "id": "ab04a0f4",
   "metadata": {},
   "source": [
    "#### We can conclude that if a student study for 9.25 Hrs/day then he can score upto 93.15%."
   ]
  },
  {
   "cell_type": "markdown",
   "id": "bb260b72",
   "metadata": {},
   "source": [
    "## Thank you"
   ]
  }
 ],
 "metadata": {
  "kernelspec": {
   "display_name": "R",
   "language": "R",
   "name": "ir"
  },
  "language_info": {
   "codemirror_mode": "r",
   "file_extension": ".r",
   "mimetype": "text/x-r-source",
   "name": "R",
   "pygments_lexer": "r",
   "version": "3.6.1"
  }
 },
 "nbformat": 4,
 "nbformat_minor": 5
}
